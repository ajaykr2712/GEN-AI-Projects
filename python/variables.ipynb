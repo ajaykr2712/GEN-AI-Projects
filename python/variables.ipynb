{
 "cells": [
  {
   "cell_type": "markdown",
   "metadata": {},
   "source": [
    "Variable Assignment"
   ]
  },
  {
   "cell_type": "code",
   "execution_count": 5,
   "metadata": {},
   "outputs": [
    {
     "name": "stdout",
     "output_type": "stream",
     "text": [
      "10 Hello\n"
     ]
    }
   ],
   "source": [
    "x = 10  # Assigning an integer value\n",
    "y = \"Hello\"  # Assigning a string value\n",
    "\n",
    "print(str(x) + \" \" + y)"
   ]
  },
  {
   "cell_type": "code",
   "execution_count": 10,
   "metadata": {},
   "outputs": [
    {
     "name": "stdout",
     "output_type": "stream",
     "text": [
      "5 U1001\n"
     ]
    }
   ],
   "source": [
    "my_var = 5\n",
    "_user_id = \"U1001\"\n",
    "print(str(my_var) + \" \" + _user_id)"
   ]
  },
  {
   "cell_type": "code",
   "execution_count": 11,
   "metadata": {},
   "outputs": [
    {
     "name": "stdout",
     "output_type": "stream",
     "text": [
      "5\n"
     ]
    }
   ],
   "source": [
    "print(my_var)"
   ]
  },
  {
   "cell_type": "code",
   "execution_count": 13,
   "metadata": {},
   "outputs": [
    {
     "name": "stdout",
     "output_type": "stream",
     "text": [
      "5.0\n"
     ]
    }
   ],
   "source": [
    "print(float(my_var))"
   ]
  },
  {
   "cell_type": "markdown",
   "metadata": {},
   "source": [
    "Dynamic Typing .\n",
    "\n",
    "Variables can be reassigned to different data types, which is known as dynamic typing.\n",
    "\n",
    "Python allows the type of a variable to be changed as the program executes"
   ]
  },
  {
   "cell_type": "code",
   "execution_count": 14,
   "metadata": {},
   "outputs": [
    {
     "name": "stdout",
     "output_type": "stream",
     "text": [
      "ten ten\n"
     ]
    }
   ],
   "source": [
    "x = 10\n",
    "x = \"ten\"  # Now x is a string\n",
    "print (str(x) + \" \" +x)"
   ]
  },
  {
   "cell_type": "markdown",
   "metadata": {},
   "source": [
    "Mutable vs Immutable Types\n",
    "\n",
    "Mutable types (like lists and dictionaries) can be changed after they are created.Immutable types (like integers, floats, strings, and tuples) cannot be changed after they are created. Any operation that tries to modify an immutable type will instead create a new object."
   ]
  },
  {
   "cell_type": "code",
   "execution_count": 16,
   "metadata": {},
   "outputs": [
    {
     "name": "stdout",
     "output_type": "stream",
     "text": [
      "[1, 2, 3, 4]\n",
      "Hello World\n"
     ]
    }
   ],
   "source": [
    "a = [1, 2, 3]\n",
    "a.append(4)  # List is mutable, can be modified\n",
    "\n",
    "s = \"Hello\"\n",
    "s = s + \" World\"  # Strings are immutable, creates a new string\n",
    "print(a)\n",
    "print(s)"
   ]
  },
  {
   "cell_type": "markdown",
   "metadata": {},
   "source": [
    "Simple Calculator"
   ]
  },
  {
   "cell_type": "code",
   "execution_count": 17,
   "metadata": {},
   "outputs": [
    {
     "name": "stdout",
     "output_type": "stream",
     "text": [
      "Addition: 30.0\n",
      "Subtraction -10.0\n",
      "Mutiplication: 200.0\n",
      "Division: 200.0\n"
     ]
    }
   ],
   "source": [
    "num1 = float(input(\"Enter the first number\"))\n",
    "num2 = float(input(\"Enter the second number\"))\n",
    "\n",
    "sum = num1 + num2\n",
    "sub = num1 - num2\n",
    "mul = num1 * num2\n",
    "div = num1 * num2\n",
    "\n",
    "print(\"Addition:\", sum)\n",
    "print(\"Subtraction\", sub)\n",
    "print(\"Mutiplication:\", mul)\n",
    "print(\"Division:\", div)\n"
   ]
  }
 ],
 "metadata": {
  "kernelspec": {
   "display_name": "Python 3",
   "language": "python",
   "name": "python3"
  },
  "language_info": {
   "codemirror_mode": {
    "name": "ipython",
    "version": 3
   },
   "file_extension": ".py",
   "mimetype": "text/x-python",
   "name": "python",
   "nbconvert_exporter": "python",
   "pygments_lexer": "ipython3",
   "version": "3.9.6"
  }
 },
 "nbformat": 4,
 "nbformat_minor": 2
}
