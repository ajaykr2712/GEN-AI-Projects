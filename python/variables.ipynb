{
 "cells": [
  {
   "cell_type": "markdown",
   "metadata": {},
   "source": [
    "Variable Assignment"
   ]
  },
  {
   "cell_type": "code",
   "execution_count": 5,
   "metadata": {},
   "outputs": [
    {
     "name": "stdout",
     "output_type": "stream",
     "text": [
      "10 Hello\n"
     ]
    }
   ],
   "source": [
    "x = 10  # Assigning an integer value\n",
    "y = \"Hello\"  # Assigning a string value\n",
    "\n",
    "print(str(x) + \" \" + y)"
   ]
  },
  {
   "cell_type": "code",
   "execution_count": 10,
   "metadata": {},
   "outputs": [
    {
     "name": "stdout",
     "output_type": "stream",
     "text": [
      "5 U1001\n"
     ]
    }
   ],
   "source": [
    "my_var = 5\n",
    "_user_id = \"U1001\"\n",
    "print(str(my_var) + \" \" + _user_id)"
   ]
  },
  {
   "cell_type": "code",
   "execution_count": 11,
   "metadata": {},
   "outputs": [
    {
     "name": "stdout",
     "output_type": "stream",
     "text": [
      "5\n"
     ]
    }
   ],
   "source": [
    "print(my_var)"
   ]
  },
  {
   "cell_type": "code",
   "execution_count": 13,
   "metadata": {},
   "outputs": [
    {
     "name": "stdout",
     "output_type": "stream",
     "text": [
      "5.0\n"
     ]
    }
   ],
   "source": [
    "print(float(my_var))"
   ]
  },
  {
   "cell_type": "markdown",
   "metadata": {},
   "source": [
    "Dynamic Typing .\n",
    "\n",
    "Variables can be reassigned to different data types, which is known as dynamic typing.\n",
    "\n",
    "Python allows the type of a variable to be changed as the program executes"
   ]
  },
  {
   "cell_type": "code",
   "execution_count": 14,
   "metadata": {},
   "outputs": [
    {
     "name": "stdout",
     "output_type": "stream",
     "text": [
      "ten ten\n"
     ]
    }
   ],
   "source": [
    "x = 10\n",
    "x = \"ten\"  # Now x is a string\n",
    "print (str(x) + \" \" +x)"
   ]
  },
  {
   "cell_type": "markdown",
   "metadata": {},
   "source": [
    "Mutable vs Immutable Types\n",
    "\n",
    "Mutable types (like lists and dictionaries) can be changed after they are created.Immutable types (like integers, floats, strings, and tuples) cannot be changed after they are created. Any operation that tries to modify an immutable type will instead create a new object."
   ]
  },
  {
   "cell_type": "code",
   "execution_count": 16,
   "metadata": {},
   "outputs": [
    {
     "name": "stdout",
     "output_type": "stream",
     "text": [
      "[1, 2, 3, 4]\n",
      "Hello World\n"
     ]
    }
   ],
   "source": [
    "a = [1, 2, 3]\n",
    "a.append(4)  # List is mutable, can be modified\n",
    "\n",
    "s = \"Hello\"\n",
    "s = s + \" World\"  # Strings are immutable, creates a new string\n",
    "print(a)\n",
    "print(s)"
   ]
  },
  {
   "cell_type": "markdown",
   "metadata": {},
   "source": [
    "Simple Calculator"
   ]
  },
  {
   "cell_type": "code",
   "execution_count": 17,
   "metadata": {},
   "outputs": [
    {
     "name": "stdout",
     "output_type": "stream",
     "text": [
      "Addition: 30.0\n",
      "Subtraction -10.0\n",
      "Mutiplication: 200.0\n",
      "Division: 200.0\n"
     ]
    }
   ],
   "source": [
    "num1 = float(input(\"Enter the first number\"))\n",
    "num2 = float(input(\"Enter the second number\"))\n",
    "\n",
    "sum = num1 + num2\n",
    "sub = num1 - num2\n",
    "mul = num1 * num2\n",
    "div = num1 * num2\n",
    "\n",
    "print(\"Addition:\", sum)\n",
    "print(\"Subtraction\", sub)\n",
    "print(\"Mutiplication:\", mul)\n",
    "print(\"Division:\", div)\n"
   ]
  },
  {
   "cell_type": "markdown",
   "metadata": {},
   "source": [
    "Creating a Complex and Feature Rich Calculator using these variables\n",
    "\n",
    " # Complex Python Calculator\n",
    "This calculator will allow users to perform multiple operations in a single input, handle errors gracefully, and include functions for addition, subtraction, multiplication, division, and exponentiation."
   ]
  },
  {
   "cell_type": "code",
   "execution_count": 18,
   "metadata": {},
   "outputs": [
    {
     "name": "stdout",
     "output_type": "stream",
     "text": [
      "Complex Calculator. Type 'quit' to exit.\n",
      "Result: 13.0\n",
      "Result: 25.0\n"
     ]
    }
   ],
   "source": [
    "import operator\n",
    "import math\n",
    "\n",
    "ops = {\n",
    "    '+': operator.add,\n",
    "    '-': operator.sub,\n",
    "    '*': operator.mul,\n",
    "    '/': operator.truediv,\n",
    "    '^': operator.pow,\n",
    "    'sqrt': math.sqrt,\n",
    "    'sin': math.sin,\n",
    "    'cos': math.cos,\n",
    "    'tan': math.tan,\n",
    "    'log': math.log,\n",
    "    'ln': math.log10,\n",
    "    'pi': math.pi,\n",
    "    'e': math.e,\n",
    "    'factorial': math.factorial,\n",
    "    'gcd': math.gcd,\n",
    "    'lcm': math.lcm,\n",
    "    'hypot': math.hypot,\n",
    "    'degrees': math.degrees,\n",
    "    'radians': math.radians,\n",
    "    'degrees_to_radians': math.radians,\n",
    "    'radians_to_degrees': math.degrees,\n",
    "    \n",
    "}\n",
    "\n",
    "\n",
    "def calculate(expression):\n",
    "\n",
    "    parts = expression.split()\n",
    "    stack = []\n",
    "\n",
    "    for part in parts:\n",
    "        if part in ops:\n",
    "\n",
    "            if len(stack) < 2:\n",
    "                raise ValueError(\"Invalid expression\")\n",
    "\n",
    "            b = stack.pop()\n",
    "            a = stack.pop()\n",
    "\n",
    "            operation = ops[part]\n",
    "            stack.append(operation(a, b))\n",
    "        else:\n",
    "\n",
    "            stack.append(float(part))\n",
    "\n",
    "\n",
    "    if len(stack) != 1:\n",
    "        raise ValueError(\"Invalid expression\")\n",
    "    return stack.pop()\n",
    "\n",
    "\n",
    "def main():\n",
    "    print(\"Complex Calculator. Type 'quit' to exit.\")\n",
    "    while True:\n",
    "        try:\n",
    "            expression = input(\"Enter an expression: \")\n",
    "            if expression.lower() == 'quit':\n",
    "                break\n",
    "            result = calculate(expression)\n",
    "            print(\"Result:\", result)\n",
    "        except Exception as e:\n",
    "            print(\"Error:\", e)\n",
    "\n",
    "# Calling the main function\n",
    "if __name__ == \"__main__\":\n",
    "    main()\n"
   ]
  },
  {
   "cell_type": "code",
   "execution_count": 19,
   "metadata": {},
   "outputs": [
    {
     "name": "stdout",
     "output_type": "stream",
     "text": [
      "1 is odd\n",
      "2 is even\n",
      "3 is odd\n",
      "4 is even\n",
      "5 is odd\n"
     ]
    }
   ],
   "source": [
    "numbers = [1, 2, 3, 4, 5]\n",
    "for num in numbers:\n",
    "    if num % 2 == 0:\n",
    "        print(f\"{num} is even\")\n",
    "    else:\n",
    "        print(f\"{num} is odd\")\n"
   ]
  },
  {
   "cell_type": "code",
   "execution_count": 20,
   "metadata": {},
   "outputs": [
    {
     "name": "stdout",
     "output_type": "stream",
     "text": [
      "Greater than 2\n"
     ]
    }
   ],
   "source": [
    "x = 5\n",
    "message = \"Greater than 2\" if x > 2 else \"Not greater than 2\"\n",
    "print(message)\n"
   ]
  },
  {
   "cell_type": "code",
   "execution_count": 21,
   "metadata": {},
   "outputs": [
    {
     "name": "stdout",
     "output_type": "stream",
     "text": [
      "x is greater than 5 but not greater than 15\n"
     ]
    }
   ],
   "source": [
    "x = 10\n",
    "if x > 15:\n",
    "    print(\"x is greater than 15\")\n",
    "elif x > 5:\n",
    "    print(\"x is greater than 5 but not greater than 15\")\n"
   ]
  }
 ],
 "metadata": {
  "kernelspec": {
   "display_name": "Python 3",
   "language": "python",
   "name": "python3"
  },
  "language_info": {
   "codemirror_mode": {
    "name": "ipython",
    "version": 3
   },
   "file_extension": ".py",
   "mimetype": "text/x-python",
   "name": "python",
   "nbconvert_exporter": "python",
   "pygments_lexer": "ipython3",
   "version": "3.9.6"
  }
 },
 "nbformat": 4,
 "nbformat_minor": 2
}
